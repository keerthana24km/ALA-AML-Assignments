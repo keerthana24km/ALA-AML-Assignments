{
 "cells": [
  {
   "cell_type": "code",
   "execution_count": 2,
   "metadata": {},
   "outputs": [],
   "source": [
    "#Cauchy Schwarz inequality\n",
    "# -1 <= (a.b)/(||a|| ||b||) <= 1\n",
    "#how far two vectors are in geometric sense -> dot product\n",
    "#/_a,b = 0, cos(0) = 90 degree\n",
    "#Difference vector = a-b\n",
    "#How big is that difference vector / seperation -> calc norm, L2 norm"
   ]
  },
  {
   "cell_type": "code",
   "execution_count": 3,
   "metadata": {},
   "outputs": [],
   "source": [
    "import numpy as np\n",
    "import pandas as pd\n",
    "import sympy as sp\n",
    "import matplotlib.pyplot as plt\n",
    "%matplotlib inline"
   ]
  },
  {
   "cell_type": "code",
   "execution_count": 4,
   "metadata": {},
   "outputs": [
    {
     "data": {
      "text/plain": [
       "32"
      ]
     },
     "execution_count": 4,
     "metadata": {},
     "output_type": "execute_result"
    }
   ],
   "source": [
    "a = np.array([1,2,3])\n",
    "b = np.array([4,5,6])\n",
    "np.dot(a,b)"
   ]
  },
  {
   "cell_type": "code",
   "execution_count": 5,
   "metadata": {},
   "outputs": [
    {
     "data": {
      "text/plain": [
       "3.7416573867739413"
      ]
     },
     "execution_count": 5,
     "metadata": {},
     "output_type": "execute_result"
    }
   ],
   "source": [
    "np.linalg.norm(a)"
   ]
  },
  {
   "cell_type": "code",
   "execution_count": 6,
   "metadata": {},
   "outputs": [
    {
     "data": {
      "text/plain": [
       "0.9746318461970762"
      ]
     },
     "execution_count": 6,
     "metadata": {},
     "output_type": "execute_result"
    }
   ],
   "source": [
    "np.dot(a,b)/(np.linalg.norm(a)*np.linalg.norm(b))\n",
    "# ||a||*||a|| = a.a"
   ]
  },
  {
   "cell_type": "code",
   "execution_count": 7,
   "metadata": {},
   "outputs": [
    {
     "name": "stdout",
     "output_type": "stream",
     "text": [
      "(3, 4)\n"
     ]
    },
    {
     "data": {
      "text/plain": [
       "array([[ 1,  2, -1, -1],\n",
       "       [ 2,  4, -2,  3],\n",
       "       [-1,  1, -2,  4]])"
      ]
     },
     "execution_count": 7,
     "metadata": {},
     "output_type": "execute_result"
    }
   ],
   "source": [
    "mat = np.array([[1,2,-1,-1],\n",
    "                [2,4,-2,3],\n",
    "                [-1,1,-2,4]])\n",
    "print(mat.shape)\n",
    "mat"
   ]
  },
  {
   "cell_type": "code",
   "execution_count": 8,
   "metadata": {},
   "outputs": [
    {
     "data": {
      "text/plain": [
       "array([-1,  1,  1,  0])"
      ]
     },
     "execution_count": 8,
     "metadata": {},
     "output_type": "execute_result"
    }
   ],
   "source": [
    "x = np.array([-1,1,1,0])\n",
    "x"
   ]
  },
  {
   "cell_type": "code",
   "execution_count": 9,
   "metadata": {},
   "outputs": [
    {
     "data": {
      "text/plain": [
       "array([0, 0, 0])"
      ]
     },
     "execution_count": 9,
     "metadata": {},
     "output_type": "execute_result"
    }
   ],
   "source": [
    "np.dot(mat,x)"
   ]
  },
  {
   "cell_type": "code",
   "execution_count": 10,
   "metadata": {},
   "outputs": [
    {
     "name": "stdout",
     "output_type": "stream",
     "text": [
      "(4, 3, 2)\n"
     ]
    },
    {
     "data": {
      "text/plain": [
       "array([[[ 74, 128],\n",
       "        [ 79, 116],\n",
       "        [ 71, 116]],\n",
       "\n",
       "       [[ 78, 118],\n",
       "        [ 82, 124],\n",
       "        [ 72, 128]],\n",
       "\n",
       "       [[ 84, 138],\n",
       "        [ 84, 130],\n",
       "        [ 74, 120]],\n",
       "\n",
       "       [[ 82, 126],\n",
       "        [ 76, 156],\n",
       "        [ 82, 132]]])"
      ]
     },
     "execution_count": 10,
     "metadata": {},
     "output_type": "execute_result"
    }
   ],
   "source": [
    "T = np.array([\n",
    "    [\n",
    "        [74,128], [79,116], [71,116]\n",
    "    ],\n",
    "    [\n",
    "        [78,118], [82,124], [72,128]\n",
    "    ],\n",
    "    [\n",
    "        [84,138], [84,130], [74,120]\n",
    "    ],\n",
    "    [\n",
    "        [82,126], [76,156], [82,132]\n",
    "    ]\n",
    "])\n",
    "print(T.shape)\n",
    "T"
   ]
  },
  {
   "cell_type": "code",
   "execution_count": 11,
   "metadata": {},
   "outputs": [
    {
     "data": {
      "text/plain": [
       "array([-1,  1])"
      ]
     },
     "execution_count": 11,
     "metadata": {},
     "output_type": "execute_result"
    }
   ],
   "source": [
    "tmat = np.array([-1,1])\n",
    "tmat"
   ]
  },
  {
   "cell_type": "code",
   "execution_count": 12,
   "metadata": {},
   "outputs": [
    {
     "data": {
      "text/plain": [
       "array([[54, 37, 45],\n",
       "       [40, 42, 56],\n",
       "       [54, 46, 46],\n",
       "       [44, 80, 50]])"
      ]
     },
     "execution_count": 12,
     "metadata": {},
     "output_type": "execute_result"
    }
   ],
   "source": [
    "np.dot(T, tmat)"
   ]
  },
  {
   "cell_type": "code",
   "execution_count": 13,
   "metadata": {},
   "outputs": [
    {
     "data": {
      "text/plain": [
       "97.33333333333333"
      ]
     },
     "execution_count": 13,
     "metadata": {},
     "output_type": "execute_result"
    }
   ],
   "source": [
    "np.average(T[0])"
   ]
  },
  {
   "cell_type": "code",
   "execution_count": 14,
   "metadata": {},
   "outputs": [
    {
     "data": {
      "text/plain": [
       "100.33333333333333"
      ]
     },
     "execution_count": 14,
     "metadata": {},
     "output_type": "execute_result"
    }
   ],
   "source": [
    "np.sum(T[1])/np.size(T[1])"
   ]
  },
  {
   "cell_type": "code",
   "execution_count": 15,
   "metadata": {},
   "outputs": [
    {
     "name": "stdout",
     "output_type": "stream",
     "text": [
      "[97.33333333333333, 100.33333333333333, 105.0]\n"
     ]
    }
   ],
   "source": [
    "avg = []\n",
    "for i in range(3):\n",
    "    avg.append(np.average(T[i]))\n",
    "print(avg)"
   ]
  },
  {
   "cell_type": "code",
   "execution_count": 16,
   "metadata": {},
   "outputs": [
    {
     "data": {
      "text/plain": [
       "array([[[ 74, 128,  79, 116],\n",
       "        [ 71, 116,  78, 118]],\n",
       "\n",
       "       [[ 82, 124,  72, 128],\n",
       "        [ 84, 138,  84, 130]],\n",
       "\n",
       "       [[ 74, 120,  82, 126],\n",
       "        [ 76, 156,  82, 132]]])"
      ]
     },
     "execution_count": 16,
     "metadata": {},
     "output_type": "execute_result"
    }
   ],
   "source": [
    "patient = T.reshape(3, 2, 4)\n",
    "patient"
   ]
  },
  {
   "cell_type": "code",
   "execution_count": 17,
   "metadata": {},
   "outputs": [
    {
     "data": {
      "text/plain": [
       "array([0, 0, 0])"
      ]
     },
     "execution_count": 17,
     "metadata": {},
     "output_type": "execute_result"
    }
   ],
   "source": [
    "np.sum((x[range(4)]*mat[:,range(4)]), axis=1)"
   ]
  },
  {
   "cell_type": "code",
   "execution_count": 18,
   "metadata": {},
   "outputs": [],
   "source": [
    "#Matrix vector multiplication can be viewed as sequence of dot products between rows of a matrix and vector.\n",
    "#OR\n",
    "#Linear combinations of columns of matrix, given values of vectors as the multipliers."
   ]
  },
  {
   "cell_type": "code",
   "execution_count": 19,
   "metadata": {},
   "outputs": [
    {
     "name": "stdout",
     "output_type": "stream",
     "text": [
      "(4, 3, 2)\n"
     ]
    },
    {
     "data": {
      "text/plain": [
       "array([[[ 74, 128],\n",
       "        [ 79, 116],\n",
       "        [ 71, 116]],\n",
       "\n",
       "       [[ 78, 118],\n",
       "        [ 82, 124],\n",
       "        [ 72, 128]],\n",
       "\n",
       "       [[ 84, 138],\n",
       "        [ 84, 130],\n",
       "        [ 74, 120]],\n",
       "\n",
       "       [[ 82, 126],\n",
       "        [ 76, 156],\n",
       "        [ 82, 132]]])"
      ]
     },
     "execution_count": 19,
     "metadata": {},
     "output_type": "execute_result"
    }
   ],
   "source": [
    "T = np.array([\n",
    "    [\n",
    "        [74,128], [79,116], [71,116]\n",
    "    ],\n",
    "    [\n",
    "        [78,118], [82,124], [72,128]\n",
    "    ],\n",
    "    [\n",
    "        [84,138], [84,130], [74,120]\n",
    "    ],\n",
    "    [\n",
    "        [82,126], [76,156], [82,132]\n",
    "    ]\n",
    "])\n",
    "print(T.shape)\n",
    "T"
   ]
  },
  {
   "cell_type": "code",
   "execution_count": 20,
   "metadata": {},
   "outputs": [
    {
     "data": {
      "text/plain": [
       "array([[[ 74,  78,  84,  82],\n",
       "        [128, 118, 138, 126]],\n",
       "\n",
       "       [[ 79,  82,  84,  76],\n",
       "        [116, 124, 130, 156]],\n",
       "\n",
       "       [[ 71,  72,  74,  82],\n",
       "        [116, 128, 120, 132]]])"
      ]
     },
     "execution_count": 20,
     "metadata": {},
     "output_type": "execute_result"
    }
   ],
   "source": [
    "T1 = T.transpose(1,2,0)\n",
    "T1"
   ]
  },
  {
   "cell_type": "code",
   "execution_count": 21,
   "metadata": {},
   "outputs": [
    {
     "data": {
      "text/plain": [
       "array([[[ 74, 128],\n",
       "        [ 78, 118],\n",
       "        [ 84, 138],\n",
       "        [ 82, 126]],\n",
       "\n",
       "       [[ 79, 116],\n",
       "        [ 82, 124],\n",
       "        [ 84, 130],\n",
       "        [ 76, 156]],\n",
       "\n",
       "       [[ 71, 116],\n",
       "        [ 72, 128],\n",
       "        [ 74, 120],\n",
       "        [ 82, 132]]])"
      ]
     },
     "execution_count": 21,
     "metadata": {},
     "output_type": "execute_result"
    }
   ],
   "source": [
    "T2 = T.transpose(1,0,2)\n",
    "T2"
   ]
  },
  {
   "cell_type": "code",
   "execution_count": 22,
   "metadata": {},
   "outputs": [
    {
     "data": {
      "text/plain": [
       "array([[ 74, 128],\n",
       "       [ 78, 118],\n",
       "       [ 84, 138],\n",
       "       [ 82, 126]])"
      ]
     },
     "execution_count": 22,
     "metadata": {},
     "output_type": "execute_result"
    }
   ],
   "source": [
    "T2[0]"
   ]
  },
  {
   "cell_type": "code",
   "execution_count": 24,
   "metadata": {},
   "outputs": [
    {
     "data": {
      "text/plain": [
       "array([[128, 118, 138, 126],\n",
       "       [116, 124, 130, 156],\n",
       "       [116, 128, 120, 132]])"
      ]
     },
     "execution_count": 24,
     "metadata": {},
     "output_type": "execute_result"
    }
   ],
   "source": [
    "T2[:,:,1]"
   ]
  },
  {
   "cell_type": "code",
   "execution_count": 28,
   "metadata": {},
   "outputs": [
    {
     "data": {
      "text/plain": [
       "array([[ 50,  68],\n",
       "       [122, 167]])"
      ]
     },
     "execution_count": 28,
     "metadata": {},
     "output_type": "execute_result"
    }
   ],
   "source": [
    "A = np.array([[1,2,3],\n",
    "             [4,5,6]])\n",
    "\n",
    "B = np.array([[7,10],\n",
    "             [8,11],\n",
    "             [9,12]])\n",
    "\n",
    "result = np.dot(A,B)\n",
    "result"
   ]
  },
  {
   "cell_type": "code",
   "execution_count": 31,
   "metadata": {},
   "outputs": [
    {
     "data": {
      "text/plain": [
       "array([[[128, 202],\n",
       "        [116, 195],\n",
       "        [116, 187]],\n",
       "\n",
       "       [[118, 196],\n",
       "        [124, 206],\n",
       "        [128, 200]],\n",
       "\n",
       "       [[138, 222],\n",
       "        [130, 214],\n",
       "        [120, 194]],\n",
       "\n",
       "       [[126, 208],\n",
       "        [156, 232],\n",
       "        [132, 214]]])"
      ]
     },
     "execution_count": 31,
     "metadata": {},
     "output_type": "execute_result"
    }
   ],
   "source": [
    "X = np.array([[0,1], [1,1]])\n",
    "np.dot(T,X)"
   ]
  },
  {
   "cell_type": "code",
   "execution_count": 34,
   "metadata": {},
   "outputs": [
    {
     "name": "stdout",
     "output_type": "stream",
     "text": [
      "(1, 2, 3)\n",
      "[[[[128 202  74]]\n",
      "\n",
      "  [[116 195  79]]\n",
      "\n",
      "  [[116 187  71]]]\n",
      "\n",
      "\n",
      " [[[118 196  78]]\n",
      "\n",
      "  [[124 206  82]]\n",
      "\n",
      "  [[128 200  72]]]\n",
      "\n",
      "\n",
      " [[[138 222  84]]\n",
      "\n",
      "  [[130 214  84]]\n",
      "\n",
      "  [[120 194  74]]]\n",
      "\n",
      "\n",
      " [[[126 208  82]]\n",
      "\n",
      "  [[156 232  76]]\n",
      "\n",
      "  [[132 214  82]]]]\n"
     ]
    },
    {
     "data": {
      "text/plain": [
       "(4, 3, 1, 3)"
      ]
     },
     "execution_count": 34,
     "metadata": {},
     "output_type": "execute_result"
    }
   ],
   "source": [
    "X1 = np.array([[[0,1,1], [1,1,0]]])\n",
    "prod = np.dot(T,X1)\n",
    "print(X1.shape)\n",
    "print(prod)\n",
    "prod.shape"
   ]
  }
 ],
 "metadata": {
  "kernelspec": {
   "display_name": "pycaretenv",
   "language": "python",
   "name": "python3"
  },
  "language_info": {
   "codemirror_mode": {
    "name": "ipython",
    "version": 3
   },
   "file_extension": ".py",
   "mimetype": "text/x-python",
   "name": "python",
   "nbconvert_exporter": "python",
   "pygments_lexer": "ipython3",
   "version": "3.9.17"
  },
  "orig_nbformat": 4
 },
 "nbformat": 4,
 "nbformat_minor": 2
}
